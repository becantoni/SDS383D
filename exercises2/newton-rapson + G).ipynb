{
 "cells": [
  {
   "cell_type": "code",
   "execution_count": 1,
   "id": "902572aa",
   "metadata": {},
   "outputs": [],
   "source": [
    "import numpy as np\n",
    "import pandas as pd\n",
    "import matplotlib.pyplot as plt\n",
    "from sklearn.linear_model import LogisticRegression\n",
    "import statsmodels.api as sm"
   ]
  },
  {
   "cell_type": "code",
   "execution_count": 2,
   "id": "30212668",
   "metadata": {},
   "outputs": [],
   "source": [
    "#%% For graphs\n",
    "import matplotlib.style as style\n",
    "plt.rcParams.update({'axes.labelsize':16})\n",
    "plt.rcParams.update({'axes.titlesize':16})\n",
    "plt.rcParams.update({'legend.fontsize':16})\n",
    "plt.rcParams['xtick.labelsize'] = 16\n",
    "plt.rcParams['ytick.labelsize'] = 16\n",
    "plt.rcParams['lines.linewidth'] = 4\n",
    "style.use('ggplot')"
   ]
  },
  {
   "cell_type": "code",
   "execution_count": 3,
   "id": "073a6166",
   "metadata": {},
   "outputs": [],
   "source": [
    "'''Get data and put in adequate form'''\n",
    "data = pd.read_csv('wdbc.csv', header=None).iloc[:, 1:12]\n",
    "X = data.iloc[: , 1:]\n",
    "X = np.array(X)\n",
    "y = data.iloc[: , 0]\n",
    "y = np.where(y == 'M', 1, 0)\n",
    "y = np.array(y)"
   ]
  },
  {
   "cell_type": "code",
   "execution_count": 4,
   "id": "a5090f11",
   "metadata": {},
   "outputs": [],
   "source": [
    "from GLM import GLM"
   ]
  },
  {
   "cell_type": "code",
   "execution_count": 5,
   "id": "f2ccac54",
   "metadata": {},
   "outputs": [
    {
     "name": "stdout",
     "output_type": "stream",
     "text": [
      "Converged in: 9 iterations\n"
     ]
    }
   ],
   "source": [
    "#%% Fit with newton rapson\n",
    "model2 = GLM(X,y)\n",
    "model2.newton_rapson()\n",
    "beta_newton = model2.beta"
   ]
  },
  {
   "cell_type": "code",
   "execution_count": 6,
   "id": "1f0b7ede",
   "metadata": {},
   "outputs": [
    {
     "name": "stdout",
     "output_type": "stream",
     "text": [
      "Optimization terminated successfully.\n",
      "         Current function value: 0.128410\n",
      "         Iterations 10\n"
     ]
    }
   ],
   "source": [
    "#%%compare with built-in Python function\n",
    "logit = sm.Logit(y, model2.X).fit()\n",
    "beta_function = logit.params #parameters"
   ]
  },
  {
   "cell_type": "code",
   "execution_count": 7,
   "id": "e521e588",
   "metadata": {},
   "outputs": [
    {
     "data": {
      "text/plain": [
       "array([ 0.48701675, -7.21550165,  1.65330142, -1.73610268, 13.99253365,\n",
       "        1.07400828, -0.07716665,  0.67452961,  2.59059481,  0.445864  ,\n",
       "       -0.48206004])"
      ]
     },
     "execution_count": 7,
     "metadata": {},
     "output_type": "execute_result"
    }
   ],
   "source": [
    "beta_function"
   ]
  },
  {
   "cell_type": "code",
   "execution_count": 8,
   "id": "0446b32b",
   "metadata": {},
   "outputs": [
    {
     "data": {
      "text/plain": [
       "array([ 0.48701061, -7.21541179,  1.65329751, -1.73613703, 13.99245835,\n",
       "        1.07400542, -0.0771663 ,  0.67452938,  2.59058965,  0.44586259,\n",
       "       -0.48205781])"
      ]
     },
     "execution_count": 8,
     "metadata": {},
     "output_type": "execute_result"
    }
   ],
   "source": [
    "beta_newton"
   ]
  },
  {
   "cell_type": "code",
   "execution_count": 9,
   "id": "25e91b92",
   "metadata": {},
   "outputs": [],
   "source": [
    "'''Get diagonal elements of inverted hessian at MLE'''\n",
    "hessian = model2.hessian(beta_newton)#get Hessian at MLE\n",
    "hessian_inv = np.linalg.inv(hessian)\n",
    "diag_MLE = np.diag(-hessian_inv)\n",
    "sd_MLE = np.sqrt(diag_MLE)\n",
    "#compare with built-in function\n",
    "sd_function=logit.bse"
   ]
  },
  {
   "cell_type": "code",
   "execution_count": 10,
   "id": "7ea92174",
   "metadata": {},
   "outputs": [
    {
     "data": {
      "text/plain": [
       "array([ 0.56431907, 13.08341198,  0.2773306 , 12.26418379,  5.88571406,\n",
       "        0.44902239,  1.0733976 ,  0.64675795,  1.10603559,  0.2911734 ,\n",
       "        0.60352925])"
      ]
     },
     "execution_count": 10,
     "metadata": {},
     "output_type": "execute_result"
    }
   ],
   "source": [
    "sd_MLE"
   ]
  },
  {
   "cell_type": "code",
   "execution_count": 11,
   "id": "17cd1033",
   "metadata": {},
   "outputs": [
    {
     "data": {
      "text/plain": [
       "array([ 0.56432009, 13.08343372,  0.27733124, 12.26420078,  5.88572546,\n",
       "        0.44902301,  1.07339889,  0.64675856,  1.10603714,  0.29117369,\n",
       "        0.60353007])"
      ]
     },
     "execution_count": 11,
     "metadata": {},
     "output_type": "execute_result"
    }
   ],
   "source": [
    "sd_function"
   ]
  }
 ],
 "metadata": {
  "kernelspec": {
   "display_name": "Python 3 (ipykernel)",
   "language": "python",
   "name": "python3"
  },
  "language_info": {
   "codemirror_mode": {
    "name": "ipython",
    "version": 3
   },
   "file_extension": ".py",
   "mimetype": "text/x-python",
   "name": "python",
   "nbconvert_exporter": "python",
   "pygments_lexer": "ipython3",
   "version": "3.9.7"
  }
 },
 "nbformat": 4,
 "nbformat_minor": 5
}
