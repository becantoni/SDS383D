{
 "cells": [
  {
   "cell_type": "code",
   "execution_count": 1,
   "id": "12ec1304",
   "metadata": {},
   "outputs": [],
   "source": [
    "import numpy as np\n",
    "import pandas as pd\n",
    "import matplotlib.pyplot as plt\n",
    "from sklearn.linear_model import LogisticRegression\n",
    "import statsmodels.api as sm"
   ]
  },
  {
   "cell_type": "code",
   "execution_count": 2,
   "id": "2ea503e7",
   "metadata": {},
   "outputs": [],
   "source": [
    "#%% For graphs\n",
    "import matplotlib.style as style\n",
    "plt.rcParams.update({'axes.labelsize':16})\n",
    "plt.rcParams.update({'axes.titlesize':16})\n",
    "plt.rcParams.update({'legend.fontsize':16})\n",
    "plt.rcParams['xtick.labelsize'] = 16\n",
    "plt.rcParams['ytick.labelsize'] = 16\n",
    "plt.rcParams['lines.linewidth'] = 4\n",
    "style.use('ggplot')"
   ]
  },
  {
   "cell_type": "code",
   "execution_count": 3,
   "id": "91e47490",
   "metadata": {},
   "outputs": [],
   "source": [
    "'''Get data and put in adequate form'''\n",
    "data = pd.read_csv('wdbc.csv', header=None).iloc[:, 1:12]\n",
    "X = data.iloc[: , 1:]\n",
    "X = np.array(X)\n",
    "y = data.iloc[: , 0]\n",
    "y = np.where(y == 'M', 1, 0)\n",
    "y = np.array(y)"
   ]
  },
  {
   "cell_type": "code",
   "execution_count": 4,
   "id": "5533f7f2",
   "metadata": {},
   "outputs": [],
   "source": [
    "from GLM import GLM"
   ]
  },
  {
   "cell_type": "code",
   "execution_count": 5,
   "id": "92f3511d",
   "metadata": {},
   "outputs": [
    {
     "name": "stdout",
     "output_type": "stream",
     "text": [
      "Converged in 5714 iterations\n"
     ]
    }
   ],
   "source": [
    "'''Fit model and compare'''  \n",
    "model1 = GLM(X,y)\n",
    "model1.gradient_ascent()\n",
    "beta_gradient_ascent = model1.beta"
   ]
  },
  {
   "cell_type": "code",
   "execution_count": 6,
   "id": "0693d499",
   "metadata": {},
   "outputs": [
    {
     "name": "stdout",
     "output_type": "stream",
     "text": [
      "Optimization terminated successfully.\n",
      "         Current function value: 0.128410\n",
      "         Iterations 10\n"
     ]
    }
   ],
   "source": [
    "#%%compare with built-in Python function\n",
    "logit = sm.Logit(y, model1.X).fit()\n",
    "beta_function = logit.params #parameters\n",
    "ll_function = logit.llf#likelihood"
   ]
  },
  {
   "cell_type": "code",
   "execution_count": 7,
   "id": "4cb2c325",
   "metadata": {},
   "outputs": [
    {
     "data": {
      "image/png": "[encoded data removed]",
      "text/plain": [
       "<Figure size 432x288 with 1 Axes>"
      ]
     },
     "metadata": {},
     "output_type": "display_data"
    }
   ],
   "source": [
    "fig, ax = plt.subplots()\n",
    "plt.plot([i+1 for i in range(len(model1.likelihoods))], \n",
    "         model1.likelihoods, label = 'My function')\n",
    "plt.plot([i+1 for i in range(len(model1.likelihoods))], \n",
    "         ll_function*np.ones(len(model1.likelihoods)), \n",
    "         label = 'package final llk')\n",
    "plt.title(\"Log-Likelihood\")\n",
    "plt.xlabel(\"Iterations\")\n",
    "plt.ylabel(\"LogLikelihood\")\n",
    "plt.legend()\n",
    "plt.show()"
   ]
  },
  {
   "cell_type": "code",
   "execution_count": 9,
   "id": "57fbacba",
   "metadata": {},
   "outputs": [
    {
     "data": {
      "text/plain": [
       "array([-0.46999846,  0.70331234,  1.63620996,  0.49140481,  2.67683035,\n",
       "        1.09703371, -0.78882637,  1.10500418,  2.22756583,  0.48680885,\n",
       "       -0.20918425])"
      ]
     },
     "execution_count": 9,
     "metadata": {},
     "output_type": "execute_result"
    }
   ],
   "source": [
    "beta_gradient_ascent"
   ]
  },
  {
   "cell_type": "code",
   "execution_count": 10,
   "id": "bc72f963",
   "metadata": {},
   "outputs": [
    {
     "data": {
      "text/plain": [
       "array([ 0.48701675, -7.21550165,  1.65330142, -1.73610268, 13.99253365,\n",
       "        1.07400828, -0.07716665,  0.67452961,  2.59059481,  0.445864  ,\n",
       "       -0.48206004])"
      ]
     },
     "execution_count": 10,
     "metadata": {},
     "output_type": "execute_result"
    }
   ],
   "source": [
    "beta_function"
   ]
  }
 ],
 "metadata": {
  "kernelspec": {
   "display_name": "Python 3 (ipykernel)",
   "language": "python",
   "name": "python3"
  },
  "language_info": {
   "codemirror_mode": {
    "name": "ipython",
    "version": 3
   },
   "file_extension": ".py",
   "mimetype": "text/x-python",
   "name": "python",
   "nbconvert_exporter": "python",
   "pygments_lexer": "ipython3",
   "version": "3.9.7"
  }
 },
 "nbformat": 4,
 "nbformat_minor": 5
}
