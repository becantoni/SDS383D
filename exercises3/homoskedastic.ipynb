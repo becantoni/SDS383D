{
 "cells": [
  {
   "cell_type": "code",
   "execution_count": null,
   "id": "2bcaa9bf",
   "metadata": {},
   "outputs": [],
   "source": [
    "#%%import packages\n",
    "import numpy as np\n",
    "import pandas as pd\n",
    "from scipy import linalg\n",
    "from scipy.stats import gamma\n",
    "from scipy.stats import multivariate_normal\n",
    "import matplotlib.pyplot as plt"
   ]
  },
  {
   "cell_type": "code",
   "execution_count": null,
   "id": "92932a39",
   "metadata": {},
   "outputs": [],
   "source": [
    "#%% get data\n",
    "df=pd.read_csv('greenbuildings.csv')\n",
    "y = ((df['Rent']*df['leasing_rate'])/100).to_frame().to_numpy()\n",
    "X = df[['green_rating', 'City_Market_Rent', 'age','class_a', 'class_b']].to_numpy()"
   ]
  },
  {
   "cell_type": "code",
   "execution_count": null,
   "id": "39a0f62c",
   "metadata": {},
   "outputs": [],
   "source": [
    "#%% For graphs\n",
    "import matplotlib.style as style\n",
    "plt.rcParams.update({'axes.labelsize':16})\n",
    "plt.rcParams.update({'axes.titlesize':16})\n",
    "plt.rcParams.update({'legend.fontsize':16})\n",
    "plt.rcParams['xtick.labelsize'] = 16\n",
    "plt.rcParams['ytick.labelsize'] = 16\n",
    "plt.rcParams['lines.linewidth'] = 4\n",
    "style.use('ggplot')"
   ]
  },
  {
   "cell_type": "code",
   "execution_count": null,
   "id": "fb58ec89",
   "metadata": {},
   "outputs": [],
   "source": [
    "from linear_reg import LinearModel_Bayes"
   ]
  },
  {
   "cell_type": "code",
   "execution_count": null,
   "id": "c74cecd8",
   "metadata": {},
   "outputs": [],
   "source": [
    "model1 = LinearModel_Bayes(X, y)\n",
    "model1.fit_homoskedastic(fit_intercept=True)"
   ]
  },
  {
   "cell_type": "code",
   "execution_count": null,
   "id": "9efa85f7",
   "metadata": {},
   "outputs": [],
   "source": [
    "#get built-in package estimate to compare\n",
    "import statsmodels.api as sm\n",
    "X_add = sm.add_constant(X)\n",
    "mod = sm.OLS(y, X_add)\n",
    "fit = mod.fit()\n",
    "beta_package = fit.params\n",
    "intervals_package = fit.conf_int(alpha=0.05, cols=None)"
   ]
  },
  {
   "cell_type": "code",
   "execution_count": null,
   "id": "1ef9b1f5",
   "metadata": {},
   "outputs": [],
   "source": [
    "#1) get mean of posterior estimate for the parameters\n",
    "beta_estimate = model1.m_star\n",
    "#plot \n",
    "fig, ax = plt.subplots()\n",
    "ax.plot([i+1 for i in range(len(beta_estimate))], beta_estimate, 'bo', linestyle='dashed', linewidth=2.0, label='My model')\n",
    "ax.plot([i+1 for i in range(len(beta_estimate))], beta_package, linewidth=2.0, label='Package')\n",
    "plt.title(\"Homoskedastic model - estimates\")\n",
    "plt.xlabel(\"coefficient index\")\n",
    "plt.ylabel(\"estimate\")\n",
    "plt.legend()\n",
    "plt.show()"
   ]
  },
  {
   "cell_type": "code",
   "execution_count": null,
   "id": "7016e2a4",
   "metadata": {},
   "outputs": [],
   "source": [
    "#2) get confidence intervls simulating multivariate t\n",
    "def multivariatet(mu,Sigma,N,M):\n",
    "    '''\n",
    "    Output:\n",
    "    Produce M samples of d-dimensional multivariate t distribution\n",
    "    Input:\n",
    "    mu = mean (d dimensional numpy array or scalar)\n",
    "    Sigma = scale matrix (dxd numpy array)\n",
    "    N = degrees of freedom\n",
    "    M = # of samples to produce\n",
    "    '''\n",
    "    d = len(Sigma)\n",
    "    g = np.tile(np.random.gamma(N/2.,2./N,M),(d,1)).T\n",
    "    Z = np.random.multivariate_normal(np.zeros(d),Sigma,M)\n",
    "    return mu + Z/np.sqrt(g)\n",
    "mean = model1.m_star.flatten()\n",
    "scale = model1.scale_star\n",
    "df = 7820\n",
    "sample = multivariatet(mean, scale, df, 10000)\n",
    "sorted_matrix = np.sort(sample, axis=0)\n",
    "conf_interval = sorted_matrix[250,:], sorted_matrix[850,:]\n"
   ]
  },
  {
   "cell_type": "code",
   "execution_count": null,
   "id": "a24d27ee",
   "metadata": {},
   "outputs": [],
   "source": [
    "# plot\n",
    "width = [i+1 for i in range(len(conf_interval[0]))]\n",
    "fig, ax = plt.subplots()\n",
    "ax.plot(width, conf_interval[0], 'bo', linestyle='dashed', linewidth=2.0,  label = 'My model',  color='red',)\n",
    "ax.plot(width, conf_interval[1], 'bo', linestyle='dashed', linewidth=2.0,   color='red')\n",
    "ax.plot(width, intervals_package[:,0], linewidth=2.0, color ='blue', label='package')\n",
    "ax.plot(width, intervals_package[:,1], ls='-', linewidth=2.0, color='blue')\n",
    "plt.title(\"Homoskedastic model - intervals\")\n",
    "plt.xlabel(\"coefficient index\")\n",
    "plt.ylabel(\"confidence intervals\")\n",
    "plt.legend()\n",
    "plt.show()"
   ]
  },
  {
   "cell_type": "code",
   "execution_count": null,
   "id": "39c922a5",
   "metadata": {},
   "outputs": [],
   "source": [
    "#3) histogram of residuals\n",
    "X_int = np.hstack((np.ones(X.shape[0])[:, None], X))#add intercept to X\n",
    "residuals = y- X_int @ beta_estimate\n",
    "fig, ax = plt.subplots()\n",
    "ax.hist(residuals, bins=200, color='purple')\n",
    "plt.title(\"Homoskedastic model - histogram of residuals\")\n",
    "plt.show()"
   ]
  },
  {
   "cell_type": "code",
   "execution_count": null,
   "id": "17825d15",
   "metadata": {},
   "outputs": [],
   "source": [
    "#comment\n",
    "#you can see that for some of them you have poor explanation. you would like to not have those high errors\n",
    "#could be non normality of the model (hence not normality of the errors)\n",
    "#or could be heteroskedasticity\n",
    "#how can I test for \n",
    "#%% look at residuald agains city market rent. we see that when citymakert low you get small values close to 0. good, but growing when citymarket grows\n",
    "#you see that there is heteroskedasticiy, but one thing doesn't exclude the other "
   ]
  }
 ],
 "metadata": {
  "kernelspec": {
   "display_name": "Python 3 (ipykernel)",
   "language": "python",
   "name": "python3"
  },
  "language_info": {
   "codemirror_mode": {
    "name": "ipython",
    "version": 3
   },
   "file_extension": ".py",
   "mimetype": "text/x-python",
   "name": "python",
   "nbconvert_exporter": "python",
   "pygments_lexer": "ipython3",
   "version": "3.9.7"
  }
 },
 "nbformat": 4,
 "nbformat_minor": 5
}
