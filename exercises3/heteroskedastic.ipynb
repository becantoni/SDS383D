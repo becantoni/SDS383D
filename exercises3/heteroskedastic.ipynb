{
 "cells": [
  {
   "cell_type": "code",
   "execution_count": null,
   "id": "ffb47216",
   "metadata": {},
   "outputs": [],
   "source": [
    "#%%import packages\n",
    "import numpy as np\n",
    "import pandas as pd\n",
    "from scipy import linalg\n",
    "from scipy.stats import gamma\n",
    "from scipy.stats import multivariate_normal\n",
    "import matplotlib.pyplot as plt"
   ]
  },
  {
   "cell_type": "code",
   "execution_count": null,
   "id": "ec7c0a69",
   "metadata": {},
   "outputs": [],
   "source": [
    "#%% For graphs\n",
    "import matplotlib.style as style\n",
    "plt.rcParams.update({'axes.labelsize':16})\n",
    "plt.rcParams.update({'axes.titlesize':16})\n",
    "plt.rcParams.update({'legend.fontsize':16})\n",
    "plt.rcParams['xtick.labelsize'] = 16\n",
    "plt.rcParams['ytick.labelsize'] = 16\n",
    "plt.rcParams['lines.linewidth'] = 4\n",
    "style.use('ggplot')"
   ]
  },
  {
   "cell_type": "code",
   "execution_count": null,
   "id": "3a691254",
   "metadata": {},
   "outputs": [],
   "source": [
    "#%% get data\n",
    "df=pd.read_csv('greenbuildings.csv')\n",
    "y = ((df['Rent']*df['leasing_rate'])/100).to_frame().to_numpy()\n",
    "X = df[['green_rating', 'City_Market_Rent', 'age','class_a', 'class_b']].to_numpy()"
   ]
  },
  {
   "cell_type": "code",
   "execution_count": null,
   "id": "2cbaa813",
   "metadata": {},
   "outputs": [],
   "source": [
    "from linear_reg import LinearModel_Bayes"
   ]
  },
  {
   "cell_type": "code",
   "execution_count": null,
   "id": "2910f4bd",
   "metadata": {},
   "outputs": [],
   "source": [
    "#%%\n",
    "model2 = LinearModel_Bayes(X, y)\n",
    "model2.fit_heteroskedastic(n_iter=2000, fit_intercept = True) "
   ]
  },
  {
   "cell_type": "code",
   "execution_count": null,
   "id": "ec419940",
   "metadata": {},
   "outputs": [],
   "source": [
    "#%%get estimate\n",
    "#cut out burn-in:\n",
    "chain_beta = model2.beta_sample[1000:]\n",
    "chain_lambdas = model2.lambdas_sample[1000:]\n",
    "#get mean of the chain\n",
    "beta_final = np.mean(chain_beta, axis=0)\n",
    "lambdas_final = np.mean(chain_lambdas, axis=0)  "
   ]
  },
  {
   "cell_type": "code",
   "execution_count": null,
   "id": "ad0f9c50",
   "metadata": {},
   "outputs": [],
   "source": [
    "#1) compare with package\n",
    "fig, ax = plt.subplots()\n",
    "ax.plot([i+1 for i in range(len(beta_final))], beta_final, 'bo', linestyle='dashed', linewidth=2.0, label='My model')\n",
    "ax.plot([i+1 for i in range(len(beta_final))], beta_package, linewidth=2.0, label='Package')\n",
    "plt.title(\"Heteroskedastic model - estimates\")\n",
    "plt.xlabel(\"coefficient index\")\n",
    "plt.ylabel(\"estimate\")\n",
    "plt.legend()\n",
    "plt.show()"
   ]
  },
  {
   "cell_type": "code",
   "execution_count": null,
   "id": "296c95d4",
   "metadata": {},
   "outputs": [],
   "source": [
    "#2) compare confidence intervals\n",
    "sorted_chain = np.sort(chain_beta, axis=0)\n",
    "conf_interval = sorted_chain[25,:], sorted_chain[85,:]\n",
    "width = [i+1 for i in range(len(conf_interval[0]))]\n",
    "fig, ax = plt.subplots()\n",
    "ax.plot(width, conf_interval[0], 'bo', linestyle='dashed', linewidth=2.0,  label = 'My model',  color='red',)\n",
    "ax.plot(width, conf_interval[1], 'bo', linestyle='dashed', linewidth=2.0,   color='red')\n",
    "ax.plot(width, intervals_package[:,0], linewidth=2.0, color ='blue', label='package')\n",
    "ax.plot(width, intervals_package[:,1], ls='-', linewidth=2.0, color='blue')\n",
    "plt.title(\"Heteroskedastic model - intervals\")\n",
    "plt.xlabel(\"coefficient index\")\n",
    "plt.ylabel(\"confidence intervals\")\n",
    "plt.legend()\n",
    "plt.show()"
   ]
  },
  {
   "cell_type": "code",
   "execution_count": null,
   "id": "b8f546cd",
   "metadata": {},
   "outputs": [],
   "source": [
    "#3) look at lambda_i\n",
    "width = [i+1 for i in range(len(lambdas_final))]\n",
    "fig, ax = plt.subplots()\n",
    "ax.plot(width, lambdas_final, 'bo', linestyle='dashed', linewidth=2.0)\n",
    "plt.title(\"Heteroskedastic model - lambda_i estimate\")\n",
    "plt.xlabel(\"i\")\n",
    "plt.legend()\n",
    "plt.show()"
   ]
  }
 ],
 "metadata": {
  "kernelspec": {
   "display_name": "Python 3 (ipykernel)",
   "language": "python",
   "name": "python3"
  },
  "language_info": {
   "codemirror_mode": {
    "name": "ipython",
    "version": 3
   },
   "file_extension": ".py",
   "mimetype": "text/x-python",
   "name": "python",
   "nbconvert_exporter": "python",
   "pygments_lexer": "ipython3",
   "version": "3.9.7"
  }
 },
 "nbformat": 4,
 "nbformat_minor": 5
}
